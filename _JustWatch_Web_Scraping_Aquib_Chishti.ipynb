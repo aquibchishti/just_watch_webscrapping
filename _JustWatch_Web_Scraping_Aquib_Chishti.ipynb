{
  "nbformat": 4,
  "nbformat_minor": 0,
  "metadata": {
    "colab": {
      "provenance": []
    },
    "kernelspec": {
      "name": "python3",
      "display_name": "Python 3"
    },
    "language_info": {
      "name": "python"
    }
  },
  "cells": [
    {
      "cell_type": "markdown",
      "source": [
        "# **Just Watch**"
      ],
      "metadata": {
        "id": "k8ptoMlNQ5zB"
      }
    },
    {
      "cell_type": "markdown",
      "source": [
        "## **Web Scrapping**"
      ],
      "metadata": {
        "id": "-xHLaFLPn4yC"
      }
    },
    {
      "cell_type": "code",
      "source": [
        "#Installing all necessary labraries\n",
        "!pip install bs4\n",
        "!pip install requests"
      ],
      "metadata": {
        "id": "axiEsy9ZL3qd",
        "colab": {
          "base_uri": "https://localhost:8080/"
        },
        "outputId": "956109fe-d2cb-440f-ce40-1690c1551d0e"
      },
      "execution_count": null,
      "outputs": [
        {
          "output_type": "stream",
          "name": "stdout",
          "text": [
            "Collecting bs4\n",
            "  Downloading bs4-0.0.2-py2.py3-none-any.whl.metadata (411 bytes)\n",
            "Requirement already satisfied: beautifulsoup4 in /usr/local/lib/python3.10/dist-packages (from bs4) (4.12.3)\n",
            "Requirement already satisfied: soupsieve>1.2 in /usr/local/lib/python3.10/dist-packages (from beautifulsoup4->bs4) (2.6)\n",
            "Downloading bs4-0.0.2-py2.py3-none-any.whl (1.2 kB)\n",
            "Installing collected packages: bs4\n",
            "Successfully installed bs4-0.0.2\n",
            "Requirement already satisfied: requests in /usr/local/lib/python3.10/dist-packages (2.32.3)\n",
            "Requirement already satisfied: charset-normalizer<4,>=2 in /usr/local/lib/python3.10/dist-packages (from requests) (3.4.0)\n",
            "Requirement already satisfied: idna<4,>=2.5 in /usr/local/lib/python3.10/dist-packages (from requests) (3.10)\n",
            "Requirement already satisfied: urllib3<3,>=1.21.1 in /usr/local/lib/python3.10/dist-packages (from requests) (2.2.3)\n",
            "Requirement already satisfied: certifi>=2017.4.17 in /usr/local/lib/python3.10/dist-packages (from requests) (2024.8.30)\n"
          ]
        }
      ]
    },
    {
      "cell_type": "code",
      "source": [
        "#import all necessary labraries\n",
        "import requests\n",
        "from bs4 import BeautifulSoup\n",
        "import re\n",
        "import pandas as pd\n",
        "import numpy as np"
      ],
      "metadata": {
        "id": "omJlLZASQBmU"
      },
      "execution_count": null,
      "outputs": []
    },
    {
      "cell_type": "markdown",
      "source": [
        "## **Scrapping Movies Data**"
      ],
      "metadata": {
        "id": "NCWbwB1Og3bD"
      }
    },
    {
      "cell_type": "code",
      "source": [
        "def fetch_movie_urls(url):\n",
        "    headers = {\n",
        "        'User-Agent': 'Mozilla/5.0 (Windows NT 10.0; Win64; x64) AppleWebKit/537.36 (KHTML, like Gecko) Chrome/58.0.3029.110 Safari/537.36'\n",
        "    }\n",
        "    response = requests.get(url, headers=headers)\n",
        "    if response.status_code != 200:\n",
        "        return \"Failed to retrieve the page, status code:\", response.status_code\n",
        "    soup = BeautifulSoup(response.text, 'html.parser')\n",
        "    return soup\n",
        "\n",
        "\n",
        "url = 'https://www.justwatch.com/in/movies?release_year_from=2000'\n",
        "soup=fetch_movie_urls(url)"
      ],
      "metadata": {
        "id": "nPDgza5mQJKr"
      },
      "execution_count": null,
      "outputs": []
    },
    {
      "cell_type": "markdown",
      "source": [
        "## **Fetching Movie URL's**"
      ],
      "metadata": {
        "id": "V-qsNrtIsBEp"
      }
    },
    {
      "cell_type": "code",
      "source": [
        "movie_links = soup.find_all('a', href=True)\n",
        "movie_urls = [link['href'] for link in movie_links if '/movie/' in link['href']]\n",
        "\n",
        "url_list=[]\n",
        "for x in movie_urls:\n",
        "  url_list.append('https://www.justwatch.com'+x)\n",
        "\n",
        "# url_list"
      ],
      "metadata": {
        "id": "nXj9U4lshQY1"
      },
      "execution_count": null,
      "outputs": []
    },
    {
      "cell_type": "markdown",
      "source": [
        "## **Scrapping Movie Title**"
      ],
      "metadata": {
        "id": "Dam_ehZgvgmw"
      }
    },
    {
      "cell_type": "code",
      "source": [
        "movie_titles = []\n",
        "for movie_page in url_list:\n",
        "  movie_page = fetch_movie_urls(movie_page)\n",
        "  title = movie_page.find('h1',class_='title-detail-hero__details__title').get_text(strip=True)\n",
        "  movie_titles.append(title)\n",
        "\n",
        "# movie_titles"
      ],
      "metadata": {
        "id": "1FGDXRKQxd1s"
      },
      "execution_count": null,
      "outputs": []
    },
    {
      "cell_type": "markdown",
      "source": [
        "## **Scrapping release Year**"
      ],
      "metadata": {
        "id": "VEg1U1uPzGoj"
      }
    },
    {
      "cell_type": "code",
      "source": [
        "movie_release_year = []\n",
        "for movie_page in url_list:\n",
        "  movie_page = fetch_movie_urls(movie_page)\n",
        "  release_year= movie_page.find('span', class_='release-year').get_text(strip=True)\n",
        "  release_year = release_year.strip('()')\n",
        "  movie_release_year.append(release_year)\n",
        "\n",
        "# movie_release_year"
      ],
      "metadata": {
        "id": "wLqLKOvP5Gmt"
      },
      "execution_count": null,
      "outputs": []
    },
    {
      "cell_type": "markdown",
      "source": [
        "## **Scrapping Genres**"
      ],
      "metadata": {
        "id": "aqzhL8STqaMX"
      }
    },
    {
      "cell_type": "code",
      "source": [
        "movie_genres = []\n",
        "for movie_page in url_list:\n",
        "    movie_page = fetch_movie_urls(movie_page)\n",
        "\n",
        "    try:\n",
        "      genre_heading = movie_page.find('h3', string='Genres')\n",
        "      genre_value = genre_heading.find_next('div', class_='detail-infos__value').find('span').get_text(strip=True)\n",
        "      movie_genres.append(genre_value)\n",
        "    except AttributeError:\n",
        "      movie_genres.append(\"Not Found\")\n",
        "\n",
        "# movie_genres"
      ],
      "metadata": {
        "id": "KS4kj21RlL45"
      },
      "execution_count": null,
      "outputs": []
    },
    {
      "cell_type": "markdown",
      "source": [
        "## **Scrapping IMBD Rating**"
      ],
      "metadata": {
        "id": "UOof6-0xFuf6"
      }
    },
    {
      "cell_type": "code",
      "source": [
        "IMDB_Rating = []\n",
        "for movie_page in url_list:\n",
        "    movie_page = fetch_movie_urls(movie_page)\n",
        "\n",
        "    try:\n",
        "      imdb = movie_page.find('span', class_='imdb-score')\n",
        "      imdb_value = imdb.get_text(strip=True)[0:3]\n",
        "      IMDB_Rating.append(imdb_value)\n",
        "    except AttributeError:\n",
        "        IMDB_Rating.append(\"Not Found\")\n",
        "\n",
        "# IMDB_Rating"
      ],
      "metadata": {
        "id": "gW467MLx6aCH"
      },
      "execution_count": null,
      "outputs": []
    },
    {
      "cell_type": "markdown",
      "source": [
        "## **Scrapping Runtime/Duration**"
      ],
      "metadata": {
        "id": "8CHiu0A5RAuM"
      }
    },
    {
      "cell_type": "code",
      "source": [
        "Duration = []\n",
        "for movie_page in url_list:\n",
        "    movie_page = fetch_movie_urls(movie_page)\n",
        "\n",
        "    try:\n",
        "        runtime = movie_page.find('h3', string='Runtime')\n",
        "        runtime_value = runtime.find_next('div', class_='detail-infos__value').get_text(strip=True)\n",
        "        Duration.append(runtime_value)\n",
        "    except AttributeError:\n",
        "        Duration.append(0)\n",
        "\n",
        "# Duration"
      ],
      "metadata": {
        "id": "si_yaGO8OTBo"
      },
      "execution_count": null,
      "outputs": []
    },
    {
      "cell_type": "markdown",
      "source": [
        "## **Scrapping Age Rating**"
      ],
      "metadata": {
        "id": "edb4gsNcRJQN"
      }
    },
    {
      "cell_type": "code",
      "source": [
        "Age_Rating = []\n",
        "for movie_page in url_list:\n",
        "    movie_page = fetch_movie_urls(movie_page)\n",
        "\n",
        "    try:\n",
        "      age_rt = movie_page.find('h3', string='Age rating')\n",
        "      age_rt_value = age_rt.find_next('div', class_='detail-infos__value').get_text(strip=True)\n",
        "      Age_Rating.append(age_rt_value)\n",
        "    except AttributeError:\n",
        "        Age_Rating.append(\"No Rating\")\n",
        "\n",
        "# Age_Rating"
      ],
      "metadata": {
        "id": "ZsHskhOcNAUj"
      },
      "execution_count": null,
      "outputs": []
    },
    {
      "cell_type": "markdown",
      "source": [
        "## **Fetching Production Countries Details**"
      ],
      "metadata": {
        "id": "_RI5FD3CqFVV"
      }
    },
    {
      "cell_type": "code",
      "source": [
        "Production_Country = []\n",
        "for movie_page in url_list:\n",
        "    movie_page = fetch_movie_urls(movie_page)\n",
        "\n",
        "    try:\n",
        "      prod_count = movie_page.find('h3', string=' Production country ')\n",
        "      prod_count_value = prod_count.find_next('div', class_='detail-infos__value').get_text(strip=True)\n",
        "      Production_Country.append(prod_count_value)\n",
        "    except AttributeError:\n",
        "      Production_Country.append(\"N/A\")\n",
        "\n",
        "# Production_Country"
      ],
      "metadata": {
        "id": "ai6YOgZmYIcc"
      },
      "execution_count": null,
      "outputs": []
    },
    {
      "cell_type": "markdown",
      "source": [
        "## **Fetching Streaming Service Details**"
      ],
      "metadata": {
        "id": "IrJlIsBWrO2r"
      }
    },
    {
      "cell_type": "code",
      "source": [
        "stream_list = []\n",
        "for movie_page in url_list:\n",
        "    movie_page = fetch_movie_urls(movie_page)\n",
        "\n",
        "    try:\n",
        "        img_tags = movie_page.find_all('img', class_='offer__icon')\n",
        "        stream_services = set()\n",
        "        for img_tag in img_tags:\n",
        "            stream_services.add(img_tag['alt'])\n",
        "        if not stream_services:\n",
        "            stream_list.append([\"No streaming service found\"])\n",
        "        else:\n",
        "            stream_list.append(list(stream_services))\n",
        "    except AttributeError:\n",
        "        stream_list.append([\"No streaming service found\"])\n"
      ],
      "metadata": {
        "id": "Yk72jDLZu7EZ"
      },
      "execution_count": null,
      "outputs": []
    },
    {
      "cell_type": "markdown",
      "source": [
        "## **Now Creating Movies DataFrame**"
      ],
      "metadata": {
        "id": "Mnh22VX_7f6K"
      }
    },
    {
      "cell_type": "code",
      "source": [
        "movies_data = {\"Title\":movie_titles,\"Release Year\":movie_release_year,\"Genre\":movie_genres,\"IMDB Rating\":IMDB_Rating,\"Duration\":Duration,\"Age Rating\":Age_Rating,\"Production Country\":Production_Country,\"Available on\":stream_list,\"Just Watch URL\":url_list}\n",
        "movies_data_df=pd.DataFrame(movies_data)\n",
        "movies_data_df"
      ],
      "metadata": {
        "id": "i7XQUICP5oBI"
      },
      "execution_count": null,
      "outputs": []
    },
    {
      "cell_type": "markdown",
      "source": [
        "## **Scraping TV  Show Data**"
      ],
      "metadata": {
        "id": "LYQ5acWzJRZr"
      }
    },
    {
      "cell_type": "code",
      "source": [
        "def fetch_tvshow_urls(url):\n",
        "    headers = {\n",
        "        'User-Agent': 'Mozilla/5.0 (Windows NT 10.0; Win64; x64) AppleWebKit/537.36 (KHTML, like Gecko) Chrome/58.0.3029.110 Safari/537.36'\n",
        "    }\n",
        "    response = requests.get(url, headers=headers)\n",
        "    if response.status_code != 200:\n",
        "        return \"Failed to retrieve the page, status code:\", response.status_code\n",
        "    soup = BeautifulSoup(response.text, 'html.parser')\n",
        "    return soup\n",
        "\n",
        "\n",
        "url = 'https://www.justwatch.com/in/tv-shows?release_year_from=2000'\n",
        "soup=fetch_tvshow_urls(url)"
      ],
      "metadata": {
        "id": "Xic8FWfwI6AT"
      },
      "execution_count": null,
      "outputs": []
    },
    {
      "cell_type": "markdown",
      "source": [
        "## **Fetching Tv shows Url details**"
      ],
      "metadata": {
        "id": "ev-VUSNvJ-fJ"
      }
    },
    {
      "cell_type": "code",
      "source": [
        "tv_show_links = soup.find_all('a', href=True)\n",
        "tv_show_urls = [link['href'] for link in tv_show_links if '/tv-show/' in link['href']]\n",
        "\n",
        "tv_show_url_list=[]\n",
        "for x in tv_show_urls:\n",
        "  tv_show_url_list.append('https://www.justwatch.com'+x)\n",
        "\n",
        "# tv_show_url_list"
      ],
      "metadata": {
        "id": "eMlwT4I-8gGh"
      },
      "execution_count": null,
      "outputs": []
    },
    {
      "cell_type": "markdown",
      "source": [
        "## **Fetching Tv Show Title details**"
      ],
      "metadata": {
        "id": "1vZLzmqcKDPX"
      }
    },
    {
      "cell_type": "code",
      "source": [
        "tv_show_titles = []\n",
        "for tv_show in tv_show_url_list:\n",
        "  tv_show_page = fetch_tvshow_urls(tv_show)\n",
        "  tv_show_title=tv_show_page.find('h1', class_='title-detail-hero__details__title').get_text(strip=True)\n",
        "  tv_show_titles.append(tv_show_title)\n",
        "\n",
        "# tv_show_titles"
      ],
      "metadata": {
        "id": "a8Y6UF6-JLvO"
      },
      "execution_count": null,
      "outputs": []
    },
    {
      "cell_type": "markdown",
      "source": [
        "## **Fetching Release Year**"
      ],
      "metadata": {
        "id": "mEIt9j6RKa9B"
      }
    },
    {
      "cell_type": "code",
      "source": [
        "tv_show_release_years = []\n",
        "for tv_show in tv_show_url_list:\n",
        "  tv_show_page = fetch_tvshow_urls(tv_show)\n",
        "  tv_show_release_year = tv_show_page.find('span',class_='release-year').get_text(strip=True)\n",
        "  tv_show_release_years.append(tv_show_release_year[1:5])\n",
        "\n",
        "# tv_show_release_years"
      ],
      "metadata": {
        "id": "r72fyiF8JozW"
      },
      "execution_count": null,
      "outputs": []
    },
    {
      "cell_type": "markdown",
      "source": [
        "## **Fetching TV Show Genre Details**"
      ],
      "metadata": {
        "id": "P96pGO9kRCLv"
      }
    },
    {
      "cell_type": "code",
      "source": [
        "tv_show_genres = []\n",
        "for tv_show in tv_show_url_list:\n",
        "  tv_show_page = fetch_tvshow_urls(tv_show)\n",
        "\n",
        "  tv_show_genre_heading=tv_show_page.find('h3',string='Genres')\n",
        "\n",
        "  tv_show_genre = tv_show_genre_heading.find_next('div', class_='detail-infos__value').find('span').get_text(strip=True)\n",
        "  tv_show_genres.append(tv_show_genre)\n",
        "\n",
        "# tv_show_genres"
      ],
      "metadata": {
        "id": "Jay8a9xgT43-"
      },
      "execution_count": null,
      "outputs": []
    },
    {
      "cell_type": "markdown",
      "source": [
        "## **Fetching IMDB Rating Details**"
      ],
      "metadata": {
        "id": "hk3eSdDAXQv8"
      }
    },
    {
      "cell_type": "code",
      "source": [
        "IMDB_rating_tv_show = []\n",
        "for tv_show in tv_show_url_list:\n",
        "  tv_show_page = fetch_tvshow_urls(tv_show)\n",
        "\n",
        "  try:\n",
        "    imdb_rating_tv = tv_show_page.find('span', class_='imdb-score')\n",
        "    imdb_tv_value=imdb_rating_tv.get_text(strip=True)[0:3]\n",
        "    IMDB_rating_tv_show.append(imdb_tv_value)\n",
        "  except AttributeError:\n",
        "    IMDB_rating_tv_show.append(\"Not Found\")\n",
        "\n",
        "# IMDB_rating_tv_show"
      ],
      "metadata": {
        "id": "EmltFOQEXM2W"
      },
      "execution_count": null,
      "outputs": []
    },
    {
      "cell_type": "markdown",
      "source": [
        "## **Fetching Age Rating Details**"
      ],
      "metadata": {
        "id": "XZ9nJhmiZB_W"
      }
    },
    {
      "cell_type": "code",
      "source": [
        "Age_Rating_TVS = []\n",
        "for tv_show in tv_show_url_list:\n",
        "  tv_show_page = fetch_tvshow_urls(tv_show)\n",
        "\n",
        "  try:\n",
        "    age_rating_show = tv_show_page.find('h3',string='Age rating')\n",
        "    age_rating_show_value= age_rating_show.find_next('div',class_='detail-infos__value').get_text(strip=True)\n",
        "    Age_Rating_TVS.append(age_rating_show_value)\n",
        "\n",
        "  except AttributeError:\n",
        "    Age_Rating_TVS.append(\"No Rating\")\n",
        "\n",
        "\n",
        "# Age_Rating_TVS"
      ],
      "metadata": {
        "id": "wR9Xo8piZA7p"
      },
      "execution_count": null,
      "outputs": []
    },
    {
      "cell_type": "markdown",
      "source": [
        "## **Fetching Production Country details**"
      ],
      "metadata": {
        "id": "ii49LH4tdNoN"
      }
    },
    {
      "cell_type": "code",
      "source": [
        "Production_Country_TVS= []\n",
        "for tv_show in tv_show_url_list:\n",
        "  tv_show_page = fetch_tvshow_urls(tv_show)\n",
        "\n",
        "  try:\n",
        "    tv_show_country = tv_show_page.find('h3',string=' Production country ')\n",
        "    tv_show_country_value= tv_show_country.find_next('div',class_= 'detail-infos__value').get_text(strip=True)\n",
        "    Production_Country_TVS.append(tv_show_country_value)\n",
        "\n",
        "  except AttributeError:\n",
        "    Production_Country_TVS.append('N/A')\n",
        "\n",
        "# Production_Country_TVS"
      ],
      "metadata": {
        "id": "xihOeyN8XXDt"
      },
      "execution_count": null,
      "outputs": []
    },
    {
      "cell_type": "markdown",
      "source": [
        "## **Fetching Streaming Service details**"
      ],
      "metadata": {
        "id": "mHZwwgiKdlQm"
      }
    },
    {
      "cell_type": "code",
      "source": [
        "Streaming_Services_TVS = []\n",
        "for tv_show in tv_show_url_list:\n",
        "    tv_show_page = fetch_tvshow_urls(tv_show)\n",
        "\n",
        "    try:\n",
        "        img_tags = tv_show_page.find_all('img', class_='offer__icon')\n",
        "        stream_services_tvs = set()\n",
        "        for img_tag in img_tags:\n",
        "            stream_services_tvs.add(img_tag['alt'])\n",
        "        if not stream_services_tvs:\n",
        "            Streaming_Services_TVS.append([\"No streaming service found\"])\n",
        "        else:\n",
        "            Streaming_Services_TVS.append(list(stream_services_tvs))\n",
        "    except AttributeError:\n",
        "        Streaming_Services_TVS.append([\"No streaming service found\"])\n",
        "\n",
        "# Streaming_Services_TVS"
      ],
      "metadata": {
        "id": "_MBl6Vqadrl9"
      },
      "execution_count": null,
      "outputs": []
    },
    {
      "cell_type": "markdown",
      "source": [
        "## **Fetching Duration Details**"
      ],
      "metadata": {
        "id": "uUOtDJv9gM4a"
      }
    },
    {
      "cell_type": "code",
      "source": [
        "Duration_TVS = []\n",
        "for tv_show in tv_show_url_list:\n",
        "  tv_show_page = fetch_tvshow_urls(tv_show)\n",
        "\n",
        "  try:\n",
        "    runtime_tvs = tv_show_page.find('h3', string='Runtime')\n",
        "    runtime_value_tvs = runtime_tvs.find_next('div', class_='detail-infos__value').get_text(strip=True)\n",
        "    Duration_TVS.append(runtime_value_tvs)\n",
        "  except AttributeError:\n",
        "    Duration_TVS.append(0)\n",
        "\n",
        "# Duration_TVS"
      ],
      "metadata": {
        "id": "o4x4YY6AfoL1"
      },
      "execution_count": null,
      "outputs": []
    },
    {
      "cell_type": "markdown",
      "source": [
        "## **Creating TV Show DataFrame**"
      ],
      "metadata": {
        "id": "nD4QVPT-nfVR"
      }
    },
    {
      "cell_type": "code",
      "source": [
        "tv_show_data = {\"Title\":tv_show_titles,\"Release Year\":tv_show_release_years,\"Genre\":tv_show_genres,\"IMDB Rating\":IMDB_rating_tv_show,\"Duration\":Duration_TVS,\"Age Rating\":Age_Rating_TVS,\"Production Country\":Production_Country_TVS,\"Available on\":Streaming_Services_TVS,\"Just Watch URL\":tv_show_url_list}\n",
        "tv_show_data_df=pd.DataFrame(tv_show_data)\n",
        "tv_show_data_df"
      ],
      "metadata": {
        "id": "W3Lnlb-xip2U"
      },
      "execution_count": null,
      "outputs": []
    },
    {
      "cell_type": "markdown",
      "source": [
        "## **Data Filtering & Analysis**"
      ],
      "metadata": {
        "id": "CyqHHKh4IDx6"
      }
    },
    {
      "cell_type": "code",
      "source": [
        "#Concatinating both the dataframes to form 1 for futher analysis\n",
        "\n",
        "movies_shows = pd.concat([movies_data_df,tv_show_data_df]).reset_index(drop=True)"
      ],
      "metadata": {
        "id": "6AmUnEIVL8HT"
      },
      "execution_count": null,
      "outputs": []
    },
    {
      "cell_type": "code",
      "source": [
        "#adding a new colum to represent if the record belongs to movie or show dataset\n",
        "\n",
        "movies_shows['Type'] = 'Movie'  # Seting default to 'Movie'\n",
        "movies_shows.loc[movies_shows.index >= len(movies_data_df), 'Type'] = 'Show'  # Setting 'Show' for rows from tv_show_data_df"
      ],
      "metadata": {
        "id": "Ql3iRPPGjpHY"
      },
      "execution_count": null,
      "outputs": []
    },
    {
      "cell_type": "code",
      "source": [
        "                       #Data Cleaning and Filtering\n",
        "\n",
        "#Converting date string to int for filtering\n",
        "movies_shows['Release Year'] = movies_shows['Release Year'].astype(int)\n",
        "\n",
        "# Filtering movies and TV shows released in the last 2 years (from the current date).\n",
        "\n",
        "movies_shows = movies_shows[(movies_shows['Release Year'] >= pd.Timestamp.today().year-2) & (movies_shows['Release Year'] <= pd.Timestamp.today().year)]\n",
        "\n",
        "#cleaning and converting IMDB column for futher analysis\n",
        "movies_shows = movies_shows[movies_shows['IMDB Rating'] != 'Not Found']\n",
        "movies_shows['IMDB Rating'] = movies_shows['IMDB Rating'].astype(float)\n",
        "\n",
        "# Movies and TV Shows released in the last 2 years and with an IMDb rating of 7 or higher.\n",
        "\n",
        "movies_shows = movies_shows[movies_shows['IMDB Rating'] > 7].reset_index(drop=True)\n",
        "\n",
        "movies_shows"
      ],
      "metadata": {
        "id": "ly64H04vH1v9"
      },
      "execution_count": null,
      "outputs": []
    },
    {
      "cell_type": "markdown",
      "source": [
        "## **Calculating Mean IMDB Ratings for both Movies and Tv Shows**"
      ],
      "metadata": {
        "id": "0bPDbn-gPyfm"
      }
    },
    {
      "cell_type": "code",
      "source": [
        "#Mean IMDB rating for both Movies and Tv Shows\n",
        "Average_IMDB = round(movies_shows['IMDB Rating'].mean(),2)\n",
        "# Average_IMDB\n",
        "\n",
        "#Mean IMDB rating Movies and Tv Shows wise\n",
        "Average_Individual_IMDB = movies_shows.groupby('Type')['IMDB Rating'].mean().round(2)\n",
        "# Average_Individual_IMDB"
      ],
      "metadata": {
        "id": "6aGmGPOlIkk4"
      },
      "execution_count": null,
      "outputs": []
    },
    {
      "cell_type": "markdown",
      "source": [
        "## **Analyzing Top Genres**"
      ],
      "metadata": {
        "id": "N_OroblUQG4r"
      }
    },
    {
      "cell_type": "code",
      "source": [
        "#Examining Top Genres across movies and tvshows\n",
        "\n",
        "genre_count = {}\n",
        "\n",
        "for genre in movies_shows['Genre']:\n",
        "  genre = genre.split(\", \")\n",
        "  count = 1\n",
        "  for each_genre in genre:\n",
        "    if each_genre not in genre_count:\n",
        "      genre_count[each_genre] = count\n",
        "    else:\n",
        "      genre_count[each_genre] += 1\n",
        "\n",
        "# genre_count\n",
        "\n",
        "genre_count_df = pd.DataFrame({'Genre':genre_count.keys(),'Count':genre_count.values()})\n",
        "genre_count_df = genre_count_df.sort_values(by='Count',ascending = False).reset_index(drop=True)\n",
        "\n",
        "# genre_count_df.head()"
      ],
      "metadata": {
        "id": "4ljPnIn2LJLZ"
      },
      "execution_count": null,
      "outputs": []
    },
    {
      "cell_type": "code",
      "source": [
        "#Let's Visvalize it using word cloud\n",
        "\n",
        "from wordcloud import WordCloud\n",
        "\n",
        "word_counts = genre_count_df.set_index('Genre')['Count'].to_dict()\n",
        "\n",
        "wordcloud = WordCloud(width=800, height=400, background_color='white')\n",
        "wordcloud.generate_from_frequencies(word_counts)\n",
        "\n",
        "plt.figure(figsize=(10, 6))\n",
        "plt.imshow(wordcloud, interpolation='bilinear')\n",
        "plt.axis('off')\n",
        "plt.show()"
      ],
      "metadata": {
        "id": "7Nqu7MEEYa3c"
      },
      "execution_count": null,
      "outputs": []
    },
    {
      "cell_type": "markdown",
      "source": [
        "## **Finding Predominant Streaming Service**"
      ],
      "metadata": {
        "id": "BUPye0P0QP5I"
      }
    },
    {
      "cell_type": "code",
      "source": [
        "# - Determining the streaming service with the most significant number of offerings.\n",
        "\n",
        "streaming_services = []\n",
        "for service in movies_shows['Available on']:\n",
        "    if len(service) > 1:\n",
        "        for service_count in service:\n",
        "            service_split = service_count.split(\",\")\n",
        "            streaming_services.append(service_split)\n",
        "    else:\n",
        "        streaming_services.append(service)\n",
        "\n",
        "streaming_services_series = pd.Series(streaming_services).value_counts().reset_index()\n",
        "\n",
        "streaming_service_counts = streaming_services_series.rename(columns={'index': 'Streaming Service', 0: 'Count'})\n",
        "\n",
        "\n",
        "# Converting the 'Streaming Service' to string type as needed\n",
        "streaming_service_counts['Streaming Service'] = streaming_service_counts['Streaming Service'].astype(str)\n",
        "\n",
        "# Removing square brackets and any extra whitespace from 'Streaming Service' column as needed\n",
        "\n",
        "streaming_service_counts['Streaming Service'] = streaming_service_counts['Streaming Service'].str.replace('[', '').str.replace(']', '').str.strip()\n",
        "streaming_service_counts['Streaming Service'] = streaming_service_counts['Streaming Service'].str.strip(\"' \")\n",
        "\n",
        "streaming_service_counts.head()"
      ],
      "metadata": {
        "id": "cLXiCZSAO_40",
        "colab": {
          "base_uri": "https://localhost:8080/",
          "height": 206
        },
        "outputId": "b4d76069-875a-4408-cc80-7b842d5b2914"
      },
      "execution_count": null,
      "outputs": [
        {
          "output_type": "execute_result",
          "data": {
            "text/plain": [
              "    Streaming Service  count\n",
              "0             Netflix     20\n",
              "1  Amazon Prime Video     17\n",
              "2             Hotstar     14\n",
              "3          Bookmyshow     10\n",
              "4        Amazon Video     10"
            ],
            "text/html": [
              "\n",
              "  <div id=\"df-313b145d-6200-41fa-9992-733561d7666b\" class=\"colab-df-container\">\n",
              "    <div>\n",
              "<style scoped>\n",
              "    .dataframe tbody tr th:only-of-type {\n",
              "        vertical-align: middle;\n",
              "    }\n",
              "\n",
              "    .dataframe tbody tr th {\n",
              "        vertical-align: top;\n",
              "    }\n",
              "\n",
              "    .dataframe thead th {\n",
              "        text-align: right;\n",
              "    }\n",
              "</style>\n",
              "<table border=\"1\" class=\"dataframe\">\n",
              "  <thead>\n",
              "    <tr style=\"text-align: right;\">\n",
              "      <th></th>\n",
              "      <th>Streaming Service</th>\n",
              "      <th>count</th>\n",
              "    </tr>\n",
              "  </thead>\n",
              "  <tbody>\n",
              "    <tr>\n",
              "      <th>0</th>\n",
              "      <td>Netflix</td>\n",
              "      <td>20</td>\n",
              "    </tr>\n",
              "    <tr>\n",
              "      <th>1</th>\n",
              "      <td>Amazon Prime Video</td>\n",
              "      <td>17</td>\n",
              "    </tr>\n",
              "    <tr>\n",
              "      <th>2</th>\n",
              "      <td>Hotstar</td>\n",
              "      <td>14</td>\n",
              "    </tr>\n",
              "    <tr>\n",
              "      <th>3</th>\n",
              "      <td>Bookmyshow</td>\n",
              "      <td>10</td>\n",
              "    </tr>\n",
              "    <tr>\n",
              "      <th>4</th>\n",
              "      <td>Amazon Video</td>\n",
              "      <td>10</td>\n",
              "    </tr>\n",
              "  </tbody>\n",
              "</table>\n",
              "</div>\n",
              "    <div class=\"colab-df-buttons\">\n",
              "\n",
              "  <div class=\"colab-df-container\">\n",
              "    <button class=\"colab-df-convert\" onclick=\"convertToInteractive('df-313b145d-6200-41fa-9992-733561d7666b')\"\n",
              "            title=\"Convert this dataframe to an interactive table.\"\n",
              "            style=\"display:none;\">\n",
              "\n",
              "  <svg xmlns=\"http://www.w3.org/2000/svg\" height=\"24px\" viewBox=\"0 -960 960 960\">\n",
              "    <path d=\"M120-120v-720h720v720H120Zm60-500h600v-160H180v160Zm220 220h160v-160H400v160Zm0 220h160v-160H400v160ZM180-400h160v-160H180v160Zm440 0h160v-160H620v160ZM180-180h160v-160H180v160Zm440 0h160v-160H620v160Z\"/>\n",
              "  </svg>\n",
              "    </button>\n",
              "\n",
              "  <style>\n",
              "    .colab-df-container {\n",
              "      display:flex;\n",
              "      gap: 12px;\n",
              "    }\n",
              "\n",
              "    .colab-df-convert {\n",
              "      background-color: #E8F0FE;\n",
              "      border: none;\n",
              "      border-radius: 50%;\n",
              "      cursor: pointer;\n",
              "      display: none;\n",
              "      fill: #1967D2;\n",
              "      height: 32px;\n",
              "      padding: 0 0 0 0;\n",
              "      width: 32px;\n",
              "    }\n",
              "\n",
              "    .colab-df-convert:hover {\n",
              "      background-color: #E2EBFA;\n",
              "      box-shadow: 0px 1px 2px rgba(60, 64, 67, 0.3), 0px 1px 3px 1px rgba(60, 64, 67, 0.15);\n",
              "      fill: #174EA6;\n",
              "    }\n",
              "\n",
              "    .colab-df-buttons div {\n",
              "      margin-bottom: 4px;\n",
              "    }\n",
              "\n",
              "    [theme=dark] .colab-df-convert {\n",
              "      background-color: #3B4455;\n",
              "      fill: #D2E3FC;\n",
              "    }\n",
              "\n",
              "    [theme=dark] .colab-df-convert:hover {\n",
              "      background-color: #434B5C;\n",
              "      box-shadow: 0px 1px 3px 1px rgba(0, 0, 0, 0.15);\n",
              "      filter: drop-shadow(0px 1px 2px rgba(0, 0, 0, 0.3));\n",
              "      fill: #FFFFFF;\n",
              "    }\n",
              "  </style>\n",
              "\n",
              "    <script>\n",
              "      const buttonEl =\n",
              "        document.querySelector('#df-313b145d-6200-41fa-9992-733561d7666b button.colab-df-convert');\n",
              "      buttonEl.style.display =\n",
              "        google.colab.kernel.accessAllowed ? 'block' : 'none';\n",
              "\n",
              "      async function convertToInteractive(key) {\n",
              "        const element = document.querySelector('#df-313b145d-6200-41fa-9992-733561d7666b');\n",
              "        const dataTable =\n",
              "          await google.colab.kernel.invokeFunction('convertToInteractive',\n",
              "                                                    [key], {});\n",
              "        if (!dataTable) return;\n",
              "\n",
              "        const docLinkHtml = 'Like what you see? Visit the ' +\n",
              "          '<a target=\"_blank\" href=https://colab.research.google.com/notebooks/data_table.ipynb>data table notebook</a>'\n",
              "          + ' to learn more about interactive tables.';\n",
              "        element.innerHTML = '';\n",
              "        dataTable['output_type'] = 'display_data';\n",
              "        await google.colab.output.renderOutput(dataTable, element);\n",
              "        const docLink = document.createElement('div');\n",
              "        docLink.innerHTML = docLinkHtml;\n",
              "        element.appendChild(docLink);\n",
              "      }\n",
              "    </script>\n",
              "  </div>\n",
              "\n",
              "\n",
              "<div id=\"df-f90a18e9-9d5a-4a1d-ad67-615252577983\">\n",
              "  <button class=\"colab-df-quickchart\" onclick=\"quickchart('df-f90a18e9-9d5a-4a1d-ad67-615252577983')\"\n",
              "            title=\"Suggest charts\"\n",
              "            style=\"display:none;\">\n",
              "\n",
              "<svg xmlns=\"http://www.w3.org/2000/svg\" height=\"24px\"viewBox=\"0 0 24 24\"\n",
              "     width=\"24px\">\n",
              "    <g>\n",
              "        <path d=\"M19 3H5c-1.1 0-2 .9-2 2v14c0 1.1.9 2 2 2h14c1.1 0 2-.9 2-2V5c0-1.1-.9-2-2-2zM9 17H7v-7h2v7zm4 0h-2V7h2v10zm4 0h-2v-4h2v4z\"/>\n",
              "    </g>\n",
              "</svg>\n",
              "  </button>\n",
              "\n",
              "<style>\n",
              "  .colab-df-quickchart {\n",
              "      --bg-color: #E8F0FE;\n",
              "      --fill-color: #1967D2;\n",
              "      --hover-bg-color: #E2EBFA;\n",
              "      --hover-fill-color: #174EA6;\n",
              "      --disabled-fill-color: #AAA;\n",
              "      --disabled-bg-color: #DDD;\n",
              "  }\n",
              "\n",
              "  [theme=dark] .colab-df-quickchart {\n",
              "      --bg-color: #3B4455;\n",
              "      --fill-color: #D2E3FC;\n",
              "      --hover-bg-color: #434B5C;\n",
              "      --hover-fill-color: #FFFFFF;\n",
              "      --disabled-bg-color: #3B4455;\n",
              "      --disabled-fill-color: #666;\n",
              "  }\n",
              "\n",
              "  .colab-df-quickchart {\n",
              "    background-color: var(--bg-color);\n",
              "    border: none;\n",
              "    border-radius: 50%;\n",
              "    cursor: pointer;\n",
              "    display: none;\n",
              "    fill: var(--fill-color);\n",
              "    height: 32px;\n",
              "    padding: 0;\n",
              "    width: 32px;\n",
              "  }\n",
              "\n",
              "  .colab-df-quickchart:hover {\n",
              "    background-color: var(--hover-bg-color);\n",
              "    box-shadow: 0 1px 2px rgba(60, 64, 67, 0.3), 0 1px 3px 1px rgba(60, 64, 67, 0.15);\n",
              "    fill: var(--button-hover-fill-color);\n",
              "  }\n",
              "\n",
              "  .colab-df-quickchart-complete:disabled,\n",
              "  .colab-df-quickchart-complete:disabled:hover {\n",
              "    background-color: var(--disabled-bg-color);\n",
              "    fill: var(--disabled-fill-color);\n",
              "    box-shadow: none;\n",
              "  }\n",
              "\n",
              "  .colab-df-spinner {\n",
              "    border: 2px solid var(--fill-color);\n",
              "    border-color: transparent;\n",
              "    border-bottom-color: var(--fill-color);\n",
              "    animation:\n",
              "      spin 1s steps(1) infinite;\n",
              "  }\n",
              "\n",
              "  @keyframes spin {\n",
              "    0% {\n",
              "      border-color: transparent;\n",
              "      border-bottom-color: var(--fill-color);\n",
              "      border-left-color: var(--fill-color);\n",
              "    }\n",
              "    20% {\n",
              "      border-color: transparent;\n",
              "      border-left-color: var(--fill-color);\n",
              "      border-top-color: var(--fill-color);\n",
              "    }\n",
              "    30% {\n",
              "      border-color: transparent;\n",
              "      border-left-color: var(--fill-color);\n",
              "      border-top-color: var(--fill-color);\n",
              "      border-right-color: var(--fill-color);\n",
              "    }\n",
              "    40% {\n",
              "      border-color: transparent;\n",
              "      border-right-color: var(--fill-color);\n",
              "      border-top-color: var(--fill-color);\n",
              "    }\n",
              "    60% {\n",
              "      border-color: transparent;\n",
              "      border-right-color: var(--fill-color);\n",
              "    }\n",
              "    80% {\n",
              "      border-color: transparent;\n",
              "      border-right-color: var(--fill-color);\n",
              "      border-bottom-color: var(--fill-color);\n",
              "    }\n",
              "    90% {\n",
              "      border-color: transparent;\n",
              "      border-bottom-color: var(--fill-color);\n",
              "    }\n",
              "  }\n",
              "</style>\n",
              "\n",
              "  <script>\n",
              "    async function quickchart(key) {\n",
              "      const quickchartButtonEl =\n",
              "        document.querySelector('#' + key + ' button');\n",
              "      quickchartButtonEl.disabled = true;  // To prevent multiple clicks.\n",
              "      quickchartButtonEl.classList.add('colab-df-spinner');\n",
              "      try {\n",
              "        const charts = await google.colab.kernel.invokeFunction(\n",
              "            'suggestCharts', [key], {});\n",
              "      } catch (error) {\n",
              "        console.error('Error during call to suggestCharts:', error);\n",
              "      }\n",
              "      quickchartButtonEl.classList.remove('colab-df-spinner');\n",
              "      quickchartButtonEl.classList.add('colab-df-quickchart-complete');\n",
              "    }\n",
              "    (() => {\n",
              "      let quickchartButtonEl =\n",
              "        document.querySelector('#df-f90a18e9-9d5a-4a1d-ad67-615252577983 button');\n",
              "      quickchartButtonEl.style.display =\n",
              "        google.colab.kernel.accessAllowed ? 'block' : 'none';\n",
              "    })();\n",
              "  </script>\n",
              "</div>\n",
              "\n",
              "    </div>\n",
              "  </div>\n"
            ],
            "application/vnd.google.colaboratory.intrinsic+json": {
              "type": "dataframe",
              "variable_name": "streaming_service_counts",
              "summary": "{\n  \"name\": \"streaming_service_counts\",\n  \"rows\": 19,\n  \"fields\": [\n    {\n      \"column\": \"Streaming Service\",\n      \"properties\": {\n        \"dtype\": \"string\",\n        \"num_unique_values\": 19,\n        \"samples\": [\n          \"Netflix\",\n          \"Jio Cinema\",\n          \"VI movies and tv\"\n        ],\n        \"semantic_type\": \"\",\n        \"description\": \"\"\n      }\n    },\n    {\n      \"column\": \"count\",\n      \"properties\": {\n        \"dtype\": \"number\",\n        \"std\": 5,\n        \"min\": 1,\n        \"max\": 20,\n        \"num_unique_values\": 10,\n        \"samples\": [\n          2,\n          17,\n          6\n        ],\n        \"semantic_type\": \"\",\n        \"description\": \"\"\n      }\n    }\n  ]\n}"
            }
          },
          "metadata": {},
          "execution_count": 161
        }
      ]
    },
    {
      "cell_type": "code",
      "source": [
        "#Generating a Wordcloud from streaming services\n",
        "\n",
        "text = dict(zip(streaming_service_counts['Streaming Service'], streaming_service_counts['count']))\n",
        "\n",
        "wordcloud = WordCloud(width=800, height=400, background_color='white').generate_from_frequencies(text)\n",
        "plt.figure(figsize=(10, 5), facecolor=None)\n",
        "plt.imshow(wordcloud, interpolation='bilinear')\n",
        "plt.axis(\"off\")\n",
        "plt.tight_layout(pad=0)\n",
        "plt.show()"
      ],
      "metadata": {
        "colab": {
          "base_uri": "https://localhost:8080/",
          "height": 536
        },
        "id": "LM71J8fQOJ3T",
        "outputId": "89159ac9-530d-4bf1-abe1-df4e757dd1a0"
      },
      "execution_count": null,
      "outputs": [
        {
          "output_type": "display_data",
          "data": {
            "text/plain": [
              "<Figure size 1000x500 with 1 Axes>"
            ],
            "image/png": "[encoded data removed]"
          },
          "metadata": {}
        }
      ]
    },
    {
      "cell_type": "markdown",
      "source": [
        "## **Data Export**"
      ],
      "metadata": {
        "id": "tytqsADVR2x6"
      }
    },
    {
      "cell_type": "code",
      "source": [
        "#saving final movies dataframe as Final Movies in csv format\n",
        "movies_data_df_to_csv = movies_data_df.to_csv('Final_Movies.csv', index=False)\n",
        "\n",
        "movies_data_df_to_csv\n",
        "\n",
        "#saving final tvshows dataframe as Final TV Shows in csv format\n",
        "\n",
        "tv_show_data_df_to_sc = tv_show_data_df.to_csv('Final_TV_Shows.csv', index=False)\n",
        "\n",
        "tv_show_data_df_to_sc"
      ],
      "metadata": {
        "id": "u4yaUlvrRj6g"
      },
      "execution_count": null,
      "outputs": []
    },
    {
      "cell_type": "code",
      "source": [
        "#saving filter data as Filter Data in csv format\n",
        "movies_shows_to_csv = movies_shows.to_csv('Final_Filtered_Data.csv', index=False)\n",
        "\n",
        "movies_shows_to_csv"
      ],
      "metadata": {
        "id": "SSmCEV22SSW_"
      },
      "execution_count": null,
      "outputs": []
    },
    {
      "cell_type": "markdown",
      "source": [
        "# **Dataset Drive Link (View Access with Anyone) -**"
      ],
      "metadata": {
        "id": "j6F3wrlGWOcl"
      }
    },
    {
      "cell_type": "code",
      "source": [
        "#Link to final csv files:\n",
        "\n",
        "# 1. Final_Movies.csv\n",
        "# 2. Final_TV_Shows.csv\n",
        "# 3. Final_Filtered_Data.csv\n",
        "\n",
        "https://drive.google.com/drive/folders/1vcZpv6rsF70vNr_PaiFF12397zhDEhBk?usp=sharing"
      ],
      "metadata": {
        "id": "JqLaamak-n62"
      },
      "execution_count": null,
      "outputs": []
    }
  ]
}